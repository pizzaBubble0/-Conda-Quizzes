{
 "cells": [
  {
   "cell_type": "markdown",
   "metadata": {},
   "source": [
    "### Dictionaries Conda Quiz"
   ]
  },
  {
   "cell_type": "markdown",
   "metadata": {},
   "source": [
    "1. Now, a little refresher. Create a dictionary! Make sure you get back the same thing."
   ]
  },
  {
   "cell_type": "code",
   "execution_count": 14,
   "metadata": {},
   "outputs": [
    {
     "name": "stdout",
     "output_type": "stream",
     "text": [
      "True\n"
     ]
    }
   ],
   "source": [
    "dictionary = \n",
    "# Type above\n",
    "\n",
    "print(str(type(dictionary)) == '<class \\'dict\\'>')"
   ]
  },
  {
   "cell_type": "markdown",
   "metadata": {},
   "source": [
    "2. I'm gonna plunge you right into the deep end! Add another item to this dictionary."
   ]
  },
  {
   "cell_type": "code",
   "execution_count": 20,
   "metadata": {},
   "outputs": [
    {
     "name": "stdout",
     "output_type": "stream",
     "text": [
      "True\n"
     ]
    }
   ],
   "source": [
    "fruit = {'apple':'red', 'banana':'yellow', 'kiwi':'green'}\n",
    "# Type here [\n",
    "\n",
    "\n",
    "\n",
    "# ]\n",
    "\n",
    "print(len(fruit) == 4)"
   ]
  },
  {
   "cell_type": "markdown",
   "metadata": {},
   "source": [
    "3. Niiice. See if you can use indexing AND .upper() to get back a capital sausage and put it in the variable answer."
   ]
  },
  {
   "cell_type": "code",
   "execution_count": 21,
   "metadata": {},
   "outputs": [
    {
     "name": "stdout",
     "output_type": "stream",
     "text": [
      "True\n"
     ]
    }
   ],
   "source": [
    "food = {'best':'sausage','worst':'tofu','weird':'chocolate tomatoes'}\n",
    "# Type here [\n",
    "\n",
    "\n",
    "answer = \n",
    "\n",
    "# ]\n",
    "\n",
    "print(answer == 'SAUSAGE')"
   ]
  },
  {
   "cell_type": "markdown",
   "metadata": {},
   "source": [
    "Now, I've got BOTH a puzzle and challenge for you today :)."
   ]
  },
  {
   "cell_type": "markdown",
   "metadata": {},
   "source": [
    "CHALLENGE: Can you figure out how to get a list of all the keys in a dictionary using the .keys() method?"
   ]
  },
  {
   "cell_type": "code",
   "execution_count": 23,
   "metadata": {},
   "outputs": [
    {
     "name": "stdout",
     "output_type": "stream",
     "text": [
      "dict_keys(['You', 'did', 'it!'])\n"
     ]
    }
   ],
   "source": [
    "example = {'You':1, 'did':2, 'it!':3}\n",
    "# Type below\n",
    "\n"
   ]
  },
  {
   "cell_type": "markdown",
   "metadata": {},
   "source": [
    "PUZZLE: Using this dictionary, can you find out what the code words mean by looking them up?"
   ]
  },
  {
   "cell_type": "code",
   "execution_count": null,
   "metadata": {},
   "outputs": [],
   "source": [
    "secret_code = {'gfghjk':'done', 'qwe':'Well', 'bruuy':'person!'}\n",
    "# The secret code is 'qwe gfghjk bruuy'\n",
    "# Type below\n",
    "\n"
   ]
  }
 ],
 "metadata": {
  "kernelspec": {
   "display_name": "Python 3",
   "language": "python",
   "name": "python3"
  },
  "language_info": {
   "codemirror_mode": {
    "name": "ipython",
    "version": 3
   },
   "file_extension": ".py",
   "mimetype": "text/x-python",
   "name": "python",
   "nbconvert_exporter": "python",
   "pygments_lexer": "ipython3",
   "version": "3.7.3"
  }
 },
 "nbformat": 4,
 "nbformat_minor": 2
}
