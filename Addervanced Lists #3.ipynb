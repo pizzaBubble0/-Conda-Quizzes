{
 "cells": [
  {
   "cell_type": "markdown",
   "metadata": {},
   "source": [
    "# Advanced Lists Conda Quiz"
   ]
  },
  {
   "cell_type": "markdown",
   "metadata": {},
   "source": [
    "#### WARNING: Anything below 'Type above this line' or above 'Type below this line' should not be changed. Also, you might not understand it yet but that will come within time! Just an example of what you can do with Python."
   ]
  },
  {
   "cell_type": "markdown",
   "metadata": {},
   "source": [
    "1. Okay, nice and easy. Program a command to get the third item in the list. You should get the same result!"
   ]
  },
  {
   "cell_type": "code",
   "execution_count": 2,
   "metadata": {},
   "outputs": [
    {
     "data": {
      "text/plain": [
       "'pear'"
      ]
     },
     "execution_count": 2,
     "metadata": {},
     "output_type": "execute_result"
    }
   ],
   "source": [
    "fruits = ['pineapple','strawberry','pear','tomato']\n",
    "# Type below this line\n",
    "\n"
   ]
  },
  {
   "cell_type": "markdown",
   "metadata": {},
   "source": [
    "2. Nice. Can you add the item ```'squid'``` on the end of this list? Make sure you get back `True`."
   ]
  },
  {
   "cell_type": "code",
   "execution_count": 7,
   "metadata": {},
   "outputs": [
    {
     "data": {
      "text/plain": [
       "True"
      ]
     },
     "execution_count": 7,
     "metadata": {},
     "output_type": "execute_result"
    }
   ],
   "source": [
    "cephalopods = ['octopus','cuttlefish','nautilus']\n",
    "# Type below this line\n",
    "\n",
    "\n",
    "\n",
    "# Type above this line\n",
    "cephalopods[-1] == 'squid'"
   ]
  },
  {
   "cell_type": "markdown",
   "metadata": {},
   "source": [
    "CHALLENGE: Hrmm. Now it's time for something harder: can you add the second item of the list `words` to `sentence`?"
   ]
  },
  {
   "cell_type": "code",
   "execution_count": 9,
   "metadata": {},
   "outputs": [
    {
     "data": {
      "text/plain": [
       "True"
      ]
     },
     "execution_count": 9,
     "metadata": {},
     "output_type": "execute_result"
    }
   ],
   "source": [
    "sentence = ['Hey','there','how','are']\n",
    "words = ['me','you','tissue']\n",
    "# Type below this line\n",
    "\n",
    "\n",
    "\n",
    "# Type above this line\n",
    "sentence[-1] == 'you'"
   ]
  },
  {
   "cell_type": "markdown",
   "metadata": {},
   "source": [
    "4. Alright! Now, freebie: make as many lists as you want below and experiment to your heart's content! You can ask me questions in the comments section of one of my videos if something curious comes up."
   ]
  },
  {
   "cell_type": "code",
   "execution_count": 10,
   "metadata": {},
   "outputs": [],
   "source": [
    "# Go wild!\n",
    "\n"
   ]
  }
 ],
 "metadata": {
  "kernelspec": {
   "display_name": "Python 3",
   "language": "python",
   "name": "python3"
  },
  "language_info": {
   "codemirror_mode": {
    "name": "ipython",
    "version": 3
   },
   "file_extension": ".py",
   "mimetype": "text/x-python",
   "name": "python",
   "nbconvert_exporter": "python",
   "pygments_lexer": "ipython3",
   "version": "3.7.3"
  }
 },
 "nbformat": 4,
 "nbformat_minor": 2
}
