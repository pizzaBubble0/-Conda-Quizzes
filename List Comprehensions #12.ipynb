{
 "cells": [
  {
   "cell_type": "markdown",
   "metadata": {},
   "source": [
    "### List Comprehensions Conda Quiz"
   ]
  },
  {
   "cell_type": "markdown",
   "metadata": {},
   "source": [
    "Wow! This'll just be a few questions to test your memory of how list comprehensions work."
   ]
  },
  {
   "cell_type": "markdown",
   "metadata": {},
   "source": [
    "1. So! Make a list comp which creates a list with all the numbers from 50 to 65."
   ]
  },
  {
   "cell_type": "code",
   "execution_count": 1,
   "metadata": {},
   "outputs": [
    {
     "name": "stdout",
     "output_type": "stream",
     "text": [
      "[50, 51, 52, 53, 54, 55, 56, 57, 58, 59, 60, 61, 62, 63, 64]\n"
     ]
    }
   ],
   "source": [
    "# Call the list 'lst'\n",
    "\n",
    "\n",
    "\n",
    "print(lst)"
   ]
  },
  {
   "cell_type": "markdown",
   "metadata": {},
   "source": [
    "2. This time, make the list have the numbers from 50 to 65 **only if** they are dividible by 3."
   ]
  },
  {
   "cell_type": "code",
   "execution_count": 2,
   "metadata": {},
   "outputs": [
    {
     "name": "stdout",
     "output_type": "stream",
     "text": [
      "[51, 54, 57, 60, 63]\n"
     ]
    }
   ],
   "source": [
    "# Call the list 'lst'\n",
    "\n",
    "\n",
    "\n",
    "print(lst)"
   ]
  },
  {
   "cell_type": "markdown",
   "metadata": {},
   "source": [
    "3. Alright! In *this* list comp, can you go through the numbers in `values` and put them in `lst` if they're divisble by 7? Remember that list comprehensions are basically for loops!"
   ]
  },
  {
   "cell_type": "code",
   "execution_count": 3,
   "metadata": {},
   "outputs": [
    {
     "name": "stdout",
     "output_type": "stream",
     "text": [
      "[21, 63, 84, 0]\n"
     ]
    }
   ],
   "source": [
    "# Call the list 'lst'\n",
    "data = [25, 21, 63, 12, 109, 84, 0]\n",
    "\n",
    "\n",
    "\n",
    "print(lst)"
   ]
  },
  {
   "cell_type": "markdown",
   "metadata": {},
   "source": [
    "4. Sweet! One more question. Can you get the list `data` and make a list `final` with the values in `data` multiplied by 6?"
   ]
  },
  {
   "cell_type": "code",
   "execution_count": 4,
   "metadata": {},
   "outputs": [
    {
     "name": "stdout",
     "output_type": "stream",
     "text": [
      "[125, 105, 315, 60, 545, 420, 0]\n"
     ]
    }
   ],
   "source": [
    "# Call the list 'final'\n",
    "data = [25, 21, 63, 12, 109, 84, 0]\n",
    "\n",
    "\n",
    "\n",
    "print(final)"
   ]
  },
  {
   "cell_type": "markdown",
   "metadata": {},
   "source": [
    "Thats about it! Now, you can try the challenge if you *really* want to... Heh..."
   ]
  },
  {
   "cell_type": "markdown",
   "metadata": {},
   "source": [
    "CHALLENGE: Here is a list of lists! Can you make a list comprehension which takes `lol` and gets the first item in every list, then put it in a list called `first`?"
   ]
  },
  {
   "cell_type": "code",
   "execution_count": 8,
   "metadata": {},
   "outputs": [
    {
     "name": "stdout",
     "output_type": "stream",
     "text": [
      "['wow', 'you', 'did it!']\n"
     ]
    }
   ],
   "source": [
    "# Call the list 'first'\n",
    "lol = [['wow','wooh','woah'], ['you', 'she', 'me'], ['did it!', 'should try again...', 'are 100% cool!']]\n",
    "\n",
    "\n",
    "\n",
    "print(first)"
   ]
  },
  {
   "cell_type": "markdown",
   "metadata": {},
   "source": [
    "Hip hip hooray! But now for our greatest challenge yet next lesson...\n",
    "\n",
    "FUNCTIONS!"
   ]
  },
  {
   "cell_type": "code",
   "execution_count": null,
   "metadata": {},
   "outputs": [],
   "source": []
  }
 ],
 "metadata": {
  "kernelspec": {
   "display_name": "Python 3",
   "language": "python",
   "name": "python3"
  },
  "language_info": {
   "codemirror_mode": {
    "name": "ipython",
    "version": 3
   },
   "file_extension": ".py",
   "mimetype": "text/x-python",
   "name": "python",
   "nbconvert_exporter": "python",
   "pygments_lexer": "ipython3",
   "version": "3.7.3"
  }
 },
 "nbformat": 4,
 "nbformat_minor": 2
}
