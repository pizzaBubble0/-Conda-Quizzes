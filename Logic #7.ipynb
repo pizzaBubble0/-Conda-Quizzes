{
 "cells": [
  {
   "cell_type": "markdown",
   "metadata": {},
   "source": [
    "### Dictionaries Conda Quiz"
   ]
  },
  {
   "cell_type": "markdown",
   "metadata": {},
   "source": [
    "Hopefully you noticed that at the bottom of some of the Conda Quiz questions I actually use a logic statement to find out if your answer is correct! For example, I would type ```word[-1] == 'flippy'``` to see if you managed to append ```'flippy'``` to a list, and it would return true if you were correct! This time we swap roles: you create the logic statements, and you'll get true if you were correct."
   ]
  },
  {
   "cell_type": "code",
   "execution_count": 11,
   "metadata": {},
   "outputs": [],
   "source": [
    "from random import choice"
   ]
  },
  {
   "cell_type": "markdown",
   "metadata": {},
   "source": [
    "1. Here, an easy one. I want you to check whether the variable ```username``` is dudeman."
   ]
  },
  {
   "cell_type": "code",
   "execution_count": 4,
   "metadata": {},
   "outputs": [
    {
     "name": "stdout",
     "output_type": "stream",
     "text": [
      "True\n"
     ]
    }
   ],
   "source": [
    "username = 'dudeman'\n",
    "# Type below\n",
    "\n"
   ]
  },
  {
   "cell_type": "markdown",
   "metadata": {},
   "source": [
    "2. Find out whether the second item of ```shopping_list``` is crapples. I mean, it is, but still..."
   ]
  },
  {
   "cell_type": "code",
   "execution_count": 5,
   "metadata": {},
   "outputs": [
    {
     "name": "stdout",
     "output_type": "stream",
     "text": [
      "True\n"
     ]
    }
   ],
   "source": [
    "shopping_list = ['bananes','crapples','pish fingers','geans']\n",
    "# Type below\n",
    "\n"
   ]
  },
  {
   "cell_type": "markdown",
   "metadata": {},
   "source": [
    "3. Good boy... or girl. See if Doug the dog's cuteness factor is above 70."
   ]
  },
  {
   "cell_type": "code",
   "execution_count": 7,
   "metadata": {},
   "outputs": [
    {
     "name": "stdout",
     "output_type": "stream",
     "text": [
      "True\n"
     ]
    }
   ],
   "source": [
    "doug_cuteness = 999999\n",
    "# Type below\n",
    "\n"
   ]
  },
  {
   "cell_type": "markdown",
   "metadata": {},
   "source": [
    "Nice work! Here's a bone!\n",
    "```\n",
    " _       _\n",
    "(_’-----’_)\n",
    "(_.’\"\"\"\"._) \n",
    "```"
   ]
  },
  {
   "cell_type": "markdown",
   "metadata": {},
   "source": [
    "4. Now I want you to say whether a player with 0 HP and a player with -5 HP are both dead. Yes, we're using the example... Hope you paid attention!"
   ]
  },
  {
   "cell_type": "code",
   "execution_count": 10,
   "metadata": {},
   "outputs": [
    {
     "name": "stdout",
     "output_type": "stream",
     "text": [
      "True\n"
     ]
    }
   ],
   "source": [
    "p1 = 0\n",
    "p2 = -5\n",
    "# What goes in the ? space?\n",
    "# Type below\n",
    "\n",
    "p1 ? 0 and p2 ? 0"
   ]
  },
  {
   "cell_type": "markdown",
   "metadata": {},
   "source": [
    "5. Create a logic statement using 'or' to return true whether colour is red OR blue."
   ]
  },
  {
   "cell_type": "code",
   "execution_count": 14,
   "metadata": {},
   "outputs": [
    {
     "name": "stdout",
     "output_type": "stream",
     "text": [
      "True\n"
     ]
    }
   ],
   "source": [
    "favourite_colour = choice(['red','blue'])\n",
    "# Run this code several times to see if you're correct... ;)\n",
    "# Type below\n",
    "\n"
   ]
  },
  {
   "cell_type": "markdown",
   "metadata": {},
   "source": [
    "CHALLENGE: Make a statement to return true if my dog's ```colour``` is ```'black``` or ```'hazel'```, and if `friendliness` is above 70. Boy, this is real hard!"
   ]
  },
  {
   "cell_type": "code",
   "execution_count": 15,
   "metadata": {},
   "outputs": [
    {
     "name": "stdout",
     "output_type": "stream",
     "text": [
      "True\n"
     ]
    }
   ],
   "source": [
    "colour = choice(['black','hazel'])\n",
    "friendliness = 1000000\n",
    "# Again, you'll need to run it multiple times just like before to see if you used 'or' correctly.\n",
    "# Type below\n",
    "\n"
   ]
  },
  {
   "cell_type": "markdown",
   "metadata": {},
   "source": [
    "PUZZLE: Use your knowledge of if statements to find the right number which fits in here and gives you true! This strays a little to math more than Python, but it sure is a challenge. I mean, this is a puzzle. The one before was a challenge. What are you doing reading this? Go on! You can do this!"
   ]
  },
  {
   "cell_type": "code",
   "execution_count": 17,
   "metadata": {},
   "outputs": [
    {
     "data": {
      "text/plain": [
       "True"
      ]
     },
     "execution_count": 17,
     "metadata": {},
     "output_type": "execute_result"
    }
   ],
   "source": [
    "number = \n",
    "# Type above\n",
    "\n",
    "(number > 0) and (number + 2 != 25) and (number + (number * 2) == 75)"
   ]
  },
  {
   "cell_type": "markdown",
   "metadata": {},
   "source": [
    "...Hope you found that difficult? Anyways, I'll see you next lesson! Auf Wiedersehen!"
   ]
  }
 ],
 "metadata": {
  "kernelspec": {
   "display_name": "Python 3",
   "language": "python",
   "name": "python3"
  },
  "language_info": {
   "codemirror_mode": {
    "name": "ipython",
    "version": 3
   },
   "file_extension": ".py",
   "mimetype": "text/x-python",
   "name": "python",
   "nbconvert_exporter": "python",
   "pygments_lexer": "ipython3",
   "version": "3.7.3"
  }
 },
 "nbformat": 4,
 "nbformat_minor": 2
}
