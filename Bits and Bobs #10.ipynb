{
 "cells": [
  {
   "cell_type": "markdown",
   "metadata": {},
   "source": [
    "### Bits and Bobs Conda Quiz"
   ]
  },
  {
   "cell_type": "markdown",
   "metadata": {},
   "source": [
    "As I mentioned in this lesson, there is plenty more you need to practise for yourself! This Conda Quiz will be one of the most exciting yet, with a BUNCH of stuff you can do with input(), print formatting and break!"
   ]
  },
  {
   "cell_type": "markdown",
   "metadata": {},
   "source": [
    "1. First of all I need you guys to use break. Here, make an infinite ```while True``` loop then stop it as soon as it runs using ```break```."
   ]
  },
  {
   "cell_type": "code",
   "execution_count": 1,
   "metadata": {},
   "outputs": [
    {
     "name": "stdout",
     "output_type": "stream",
     "text": [
      "Nothing should happen.\n"
     ]
    }
   ],
   "source": [
    "# Type here\n",
    "\n"
   ]
  },
  {
   "cell_type": "markdown",
   "metadata": {},
   "source": [
    "2. Okey donkeys! Now use ```input()``` to ask a user for their name and age, then say something like: ```wow, *NAME*, you're *AGE* years old!```"
   ]
  },
  {
   "cell_type": "code",
   "execution_count": 2,
   "metadata": {},
   "outputs": [
    {
     "name": "stdout",
     "output_type": "stream",
     "text": [
      "Hey, whats your name? Pizza\n",
      "How old are you? 999\n",
      "Wow Pizza, you are 999 years old!\n"
     ]
    }
   ],
   "source": [
    "# You should get something like what's shown below, but the words don't HAVE to be exact\n",
    "# Type here\n",
    "\n"
   ]
  },
  {
   "cell_type": "markdown",
   "metadata": {},
   "source": [
    "3. Awesome! Now I want you to recreate the logging-in program I did during the lesson: ask the user for the password and say ```logged in``` if it's right!"
   ]
  },
  {
   "cell_type": "code",
   "execution_count": 5,
   "metadata": {},
   "outputs": [
    {
     "name": "stdout",
     "output_type": "stream",
     "text": [
      "ENTER PASSWORD: cherrycake \n",
      "Logged in!\n"
     ]
    }
   ],
   "source": [
    "# Type here\n",
    "\n"
   ]
  },
  {
   "cell_type": "markdown",
   "metadata": {},
   "source": [
    "4. Sweet. This time, you'll need to expand on the last question. Can you make an infinite loop which keeps on asking for your password until you get it right, then use ```break``` to stop it?"
   ]
  },
  {
   "cell_type": "code",
   "execution_count": 7,
   "metadata": {},
   "outputs": [
    {
     "name": "stdout",
     "output_type": "stream",
     "text": [
      "ENTER PASSWORD: pizzabubble0 \n",
      "Nope!\n",
      "ENTER PASSWORD: passwurd \n",
      "Nope! \n",
      "ENTER PASSWORD: cherrycake \n",
      "Logged in!\n"
     ]
    }
   ],
   "source": [
    "# Type here\n",
    "\n"
   ]
  },
  {
   "cell_type": "markdown",
   "metadata": {},
   "source": [
    "A. Maze. Ing. This time, I have one FINAL challenge for you!"
   ]
  },
  {
   "cell_type": "markdown",
   "metadata": {},
   "source": [
    "CHALLENGE: Can you make a small sample of the text-based RPG we'll make next lesson? All you need is one question, like which food you want to eat, then make multiple endings for each choice! You could then use ```break``` to stop the loop if the player dies from poison or reaches the end!"
   ]
  },
  {
   "cell_type": "code",
   "execution_count": 12,
   "metadata": {},
   "outputs": [
    {
     "name": "stdout",
     "output_type": "stream",
     "text": [
      "You are the king of a nation at war. A suspicious waiter comes up to you with a plate of food. On it are:\n",
      "Custard creams, sausages and oysters\n",
      "You really like sausages, but the suspicious-looking waiter knows that, too... Perhaps you should be wary. What do \n",
      "you take?\n",
      "\n",
      "Custard creams, sausages or oysters? oysters\n",
      "\n",
      "Bleaugh! These oysters are disgusting and you would have preferred some sausages instead, but at least youre alive!\n"
     ]
    }
   ],
   "source": [
    "# Type here\n",
    "\n"
   ]
  },
  {
   "cell_type": "markdown",
   "metadata": {},
   "source": [
    "SUPER CHALLENGE: Can you create a copy of the little sample you made in the challenge (copy/paste if you like) and modify it so that the program will loop AGAIN and ask you if you didn't type something that was an option? This is an unexpected eventuality which may lead into your game crashing because somebody didn't choose anything that you were prepared for! You'll need to use ```else``` to do this."
   ]
  },
  {
   "cell_type": "code",
   "execution_count": 13,
   "metadata": {},
   "outputs": [
    {
     "name": "stdout",
     "output_type": "stream",
     "text": [
      "You are the king of a nation at war. A suspicious waiter comes up to you with a plate of food. On it are:\n",
      "Custard creams, sausages and oysters\n",
      "You really like sausages, but the suspicious-looking waiter knows that, too... Perhaps you should be wary. What do \n",
      "you take?\n",
      "\n",
      "Custard creams, sausages or oysters? goat\n",
      "\n",
      "That wasnt an option! Try again!\n",
      "\n",
      "Custard creams, sausages or oyste...\n"
     ]
    }
   ],
   "source": [
    "# Type here\n",
    "\n"
   ]
  },
  {
   "cell_type": "markdown",
   "metadata": {},
   "source": [
    "Fantabsolutely coolificent! You are amazing at this, and if you managed the challenge and super challenge, this project will be a breeze! If not, don't fret! This is a massive learning curve and once you're out of it you'll find a massive land of awesomeness!"
   ]
  },
  {
   "cell_type": "code",
   "execution_count": 14,
   "metadata": {},
   "outputs": [
    {
     "name": "stdout",
     "output_type": "stream",
     "text": [
      "⊂_ヽ\n",
      "  ＼＼\n",
      "    ＼( ͡° ͜ʖ ͡°) < hello\n",
      "    >　⌒ヽ\n",
      "   / 　 へ＼\n",
      "   /　　/　＼＼\n",
      "   ﾚ　ノ　　 ヽ_つ\n",
      "  /　/\n",
      "  /　/|\n",
      " (　(ヽ\n",
      " |　|、＼\n",
      " | 丿 ＼ ⌒)\n",
      " | |　　) /\n",
      "ノ )　　Lﾉ\n",
      "(_\n"
     ]
    }
   ],
   "source": []
  }
 ],
 "metadata": {
  "kernelspec": {
   "display_name": "Python 3",
   "language": "python",
   "name": "python3"
  },
  "language_info": {
   "codemirror_mode": {
    "name": "ipython",
    "version": 3
   },
   "file_extension": ".py",
   "mimetype": "text/x-python",
   "name": "python",
   "nbconvert_exporter": "python",
   "pygments_lexer": "ipython3",
   "version": "3.7.3"
  }
 },
 "nbformat": 4,
 "nbformat_minor": 2
}
