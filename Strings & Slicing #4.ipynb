{
 "cells": [
  {
   "cell_type": "markdown",
   "metadata": {},
   "source": [
    "# Strings & Slicing Conda Quiz"
   ]
  },
  {
   "cell_type": "markdown",
   "metadata": {},
   "source": [
    "#### WARNING: Anything above 'Type below this line' should not be changed. Also, you might not understand it yet but that will come within time! Just an example of what you can do with Python."
   ]
  },
  {
   "cell_type": "markdown",
   "metadata": {},
   "source": [
    "1. Warm-up! Using slicing, grab the first three letters in this string."
   ]
  },
  {
   "cell_type": "code",
   "execution_count": 1,
   "metadata": {},
   "outputs": [
    {
     "name": "stdout",
     "output_type": "stream",
     "text": [
      "hi!\n"
     ]
    }
   ],
   "source": [
    "this_string = 'hi!jnfdjuxisefuyh'\n",
    "# Type below this line\n",
    "\n"
   ]
  },
  {
   "cell_type": "markdown",
   "metadata": {},
   "source": [
    "2. Okay! Now try getting the last five letters in this one."
   ]
  },
  {
   "cell_type": "code",
   "execution_count": 4,
   "metadata": {},
   "outputs": [
    {
     "name": "stdout",
     "output_type": "stream",
     "text": [
      "hello\n"
     ]
    }
   ],
   "source": [
    "this_one = '012345hello'\n",
    "# The numbers are a LITTLE hint to the index :)\n",
    "# Type below this line\n",
    "\n",
    "print('hello')"
   ]
  },
  {
   "cell_type": "markdown",
   "metadata": {},
   "source": [
    "Still not confused? Grrf. I mean, not like I'm TRYING to confuse you...\n",
    "\n",
    "3. Get the string 'howdy!' from the middle of this string."
   ]
  },
  {
   "cell_type": "code",
   "execution_count": 6,
   "metadata": {},
   "outputs": [
    {
     "name": "stdout",
     "output_type": "stream",
     "text": [
      "howdy!\n"
     ]
    }
   ],
   "source": [
    "southern_phrases = 'yeehawhowdy!gmorning'\n",
    "# A little hard... try counting the indexes patiently!\n",
    "# Type below this line\n",
    "\n",
    "print('howdy!')"
   ]
  },
  {
   "cell_type": "markdown",
   "metadata": {},
   "source": [
    "4. Can you reverse this string using slicing?"
   ]
  },
  {
   "cell_type": "code",
   "execution_count": 7,
   "metadata": {},
   "outputs": [
    {
     "name": "stdout",
     "output_type": "stream",
     "text": [
      "come_on\n"
     ]
    }
   ],
   "source": [
    "reverse = 'no_emoc'\n",
    "# Type below this line\n",
    "\n"
   ]
  },
  {
   "cell_type": "markdown",
   "metadata": {},
   "source": [
    "CHALLENGE: In the video I mentioned slicing works on lists too! Can you try slicing the last two items in the list?"
   ]
  },
  {
   "cell_type": "code",
   "execution_count": 9,
   "metadata": {},
   "outputs": [
    {
     "name": "stdout",
     "output_type": "stream",
     "text": [
      "['three', 'four']\n"
     ]
    }
   ],
   "source": [
    "a_list = ['zero','one','two','three','four']\n",
    "# Type below this line\n",
    "\n",
    "print(['three', 'four'])"
   ]
  },
  {
   "cell_type": "markdown",
   "metadata": {},
   "source": [
    "PUZZLE: Can you make sense of this string? Hint: you'll have to use slicing to decipher it!"
   ]
  },
  {
   "cell_type": "code",
   "execution_count": 10,
   "metadata": {},
   "outputs": [],
   "source": [
    "code = 'whehlslx_eddoandej!'\n",
    "# Type below this line\n",
    "\n"
   ]
  },
  {
   "cell_type": "markdown",
   "metadata": {},
   "source": [
    "Awesome! You completed my hardest 'Conda Quiz yet! Again, thanks for 100 subscribers! You guys are really helping me build a foundation for what will hopefully be a fun Python course for all ages!"
   ]
  }
 ],
 "metadata": {
  "kernelspec": {
   "display_name": "Python 3",
   "language": "python",
   "name": "python3"
  },
  "language_info": {
   "codemirror_mode": {
    "name": "ipython",
    "version": 3
   },
   "file_extension": ".py",
   "mimetype": "text/x-python",
   "name": "python",
   "nbconvert_exporter": "python",
   "pygments_lexer": "ipython3",
   "version": "3.7.3"
  }
 },
 "nbformat": 4,
 "nbformat_minor": 2
}
