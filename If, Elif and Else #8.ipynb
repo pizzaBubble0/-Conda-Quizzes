{
 "cells": [
  {
   "cell_type": "markdown",
   "metadata": {},
   "source": [
    "### If, Elif and Else Conda Quiz"
   ]
  },
  {
   "cell_type": "markdown",
   "metadata": {},
   "source": [
    "Boy oh boy are you in for a treat! If statements are a fundemental part of any program, so here is an extra-hard Conda Quiz to go with it!"
   ]
  },
  {
   "cell_type": "code",
   "execution_count": 6,
   "metadata": {},
   "outputs": [],
   "source": [
    "from random import randint\n",
    "from random import choice"
   ]
  },
  {
   "cell_type": "markdown",
   "metadata": {},
   "source": [
    "1. To start you off, make an if statement which says 'All right!' if the variable ```right``` is true."
   ]
  },
  {
   "cell_type": "code",
   "execution_count": 1,
   "metadata": {},
   "outputs": [
    {
     "name": "stdout",
     "output_type": "stream",
     "text": [
      "All right!\n"
     ]
    }
   ],
   "source": [
    "right = True\n",
    "\n"
   ]
  },
  {
   "cell_type": "markdown",
   "metadata": {},
   "source": [
    "2. Nice and easy. Now I want you to copy the code you wrote above, and also add an else statement to say 'Meh.' if ```right``` is false."
   ]
  },
  {
   "cell_type": "code",
   "execution_count": 3,
   "metadata": {},
   "outputs": [
    {
     "name": "stdout",
     "output_type": "stream",
     "text": [
      "Meh.\n"
     ]
    }
   ],
   "source": [
    "right = False\n",
    "# Copy here [\n",
    "\n",
    "# ] And type below\n",
    "\n"
   ]
  },
  {
   "cell_type": "markdown",
   "metadata": {},
   "source": [
    "3. Getting harder! Can you recreate the football game from my lesson? Here is some info to KICK you off. ;)\n",
    "```There are 100 units on the scale\n",
    "A perfect hit is between 40 and 60\n",
    "Anything below 40 is too weak\n",
    "Anything above 60 is too strong\n",
    "Use if, elif and else```"
   ]
  },
  {
   "cell_type": "code",
   "execution_count": 5,
   "metadata": {},
   "outputs": [],
   "source": [
    "kick_power = randint(1,100)\n",
    "# Run this code several times to see what happens!\n",
    "\n"
   ]
  },
  {
   "cell_type": "markdown",
   "metadata": {},
   "source": [
    "If you managed that, you truly ARE great! If not, don't worry - control flow is a hard topic to grasp."
   ]
  },
  {
   "cell_type": "markdown",
   "metadata": {},
   "source": [
    "CHALLENGE: Have you ever heard 'I before E, except after C, but only if it rhymes with bee'? Well, I'd like you to make that in Python! Here's some info:\n",
    "``` Your program should print 'IE' if it indeed is I before E\n",
    "If not, print 'EI'\n",
    "I have made variables for each condition [\n",
    "If it rhymes with bee, the variable rhyme is true\n",
    "If it is after c, the variable after_c is true\n",
    "] You can ignore exceptions\n",
    "Every variable is generated randomly\n",
    "Of you go!```"
   ]
  },
  {
   "cell_type": "code",
   "execution_count": 7,
   "metadata": {},
   "outputs": [],
   "source": [
    "bool_list = [True, False]\n",
    "\n",
    "rhyme = choice(bool_list)\n",
    "after_c = choice(bool_list)\n",
    "# YOU CAN DO THIS!!\n",
    "\n"
   ]
  },
  {
   "cell_type": "markdown",
   "metadata": {},
   "source": [
    "I'm not giving you empty praise: if you managed the challenge, you are a level 100 Ififier. Amazing. Again, if you didn't, it's no problem."
   ]
  },
  {
   "cell_type": "markdown",
   "metadata": {},
   "source": [
    "```< goodbyeee! 3```"
   ]
  }
 ],
 "metadata": {
  "kernelspec": {
   "display_name": "Python 3",
   "language": "python",
   "name": "python3"
  },
  "language_info": {
   "codemirror_mode": {
    "name": "ipython",
    "version": 3
   },
   "file_extension": ".py",
   "mimetype": "text/x-python",
   "name": "python",
   "nbconvert_exporter": "python",
   "pygments_lexer": "ipython3",
   "version": "3.7.3"
  }
 },
 "nbformat": 4,
 "nbformat_minor": 2
}
